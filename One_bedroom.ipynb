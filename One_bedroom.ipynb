{
 "cells": [
  {
   "cell_type": "code",
   "execution_count": 55,
   "metadata": {},
   "outputs": [],
   "source": [
    "import pandas as pd\n",
    "import numpy as np\n",
    "import seaborn as sns\n",
    "import matplotlib.pyplot as plt\n",
    "from sklearn.preprocessing import StandardScaler\n",
    "import keras\n",
    "from tensorflow.keras.models import Sequential\n",
    "from tensorflow.keras.layers import *\n",
    "from tensorflow.keras.callbacks import ModelCheckpoint\n",
    "from tensorflow.keras.metrics import RootMeanSquaredError\n",
    "from tensorflow.keras.optimizers import Adam\n",
    "import re"
   ]
  },
  {
   "cell_type": "code",
   "execution_count": 3,
   "metadata": {},
   "outputs": [],
   "source": [
    "data_one=pd.read_csv(\"one bedroom.csv\")\n",
    "data_two=pd.read_csv(\"two bedroom.csv\")\n",
    "data_three=pd.read_csv(\"three bedroom.csv\")\n",
    "data_one.drop('Ambient Temperature',axis=1,inplace=True)\n",
    "data_two.drop('Ambient Temperature',axis=1,inplace=True)\n",
    "data_three.drop('Ambient Temperature',axis=1,inplace=True)"
   ]
  },
  {
   "cell_type": "code",
   "execution_count": 4,
   "metadata": {},
   "outputs": [
    {
     "data": {
      "text/html": [
       "<div>\n",
       "<style scoped>\n",
       "    .dataframe tbody tr th:only-of-type {\n",
       "        vertical-align: middle;\n",
       "    }\n",
       "\n",
       "    .dataframe tbody tr th {\n",
       "        vertical-align: top;\n",
       "    }\n",
       "\n",
       "    .dataframe thead th {\n",
       "        text-align: right;\n",
       "    }\n",
       "</style>\n",
       "<table border=\"1\" class=\"dataframe\">\n",
       "  <thead>\n",
       "    <tr style=\"text-align: right;\">\n",
       "      <th></th>\n",
       "      <th>Time</th>\n",
       "      <th>Global Solar(kW/m2)</th>\n",
       "      <th>PV Cell Temperature(C)</th>\n",
       "      <th>Wind Speed(m/s)</th>\n",
       "      <th>AC Load(kW)</th>\n",
       "    </tr>\n",
       "  </thead>\n",
       "  <tbody>\n",
       "    <tr>\n",
       "      <th>0</th>\n",
       "      <td>01/01/2007 00:00</td>\n",
       "      <td>0.0</td>\n",
       "      <td>23.72726</td>\n",
       "      <td>2.856398</td>\n",
       "      <td>0.106465</td>\n",
       "    </tr>\n",
       "    <tr>\n",
       "      <th>1</th>\n",
       "      <td>01/01/2007 01:00</td>\n",
       "      <td>0.0</td>\n",
       "      <td>23.72726</td>\n",
       "      <td>2.546373</td>\n",
       "      <td>0.091539</td>\n",
       "    </tr>\n",
       "    <tr>\n",
       "      <th>2</th>\n",
       "      <td>01/01/2007 02:00</td>\n",
       "      <td>0.0</td>\n",
       "      <td>23.72726</td>\n",
       "      <td>2.334827</td>\n",
       "      <td>0.252012</td>\n",
       "    </tr>\n",
       "    <tr>\n",
       "      <th>3</th>\n",
       "      <td>01/01/2007 03:00</td>\n",
       "      <td>0.0</td>\n",
       "      <td>23.72726</td>\n",
       "      <td>0.927367</td>\n",
       "      <td>0.266231</td>\n",
       "    </tr>\n",
       "    <tr>\n",
       "      <th>4</th>\n",
       "      <td>01/01/2007 04:00</td>\n",
       "      <td>0.0</td>\n",
       "      <td>23.72726</td>\n",
       "      <td>1.141059</td>\n",
       "      <td>0.415482</td>\n",
       "    </tr>\n",
       "  </tbody>\n",
       "</table>\n",
       "</div>"
      ],
      "text/plain": [
       "               Time  Global Solar(kW/m2)  PV Cell Temperature(C)  \\\n",
       "0  01/01/2007 00:00                  0.0                23.72726   \n",
       "1  01/01/2007 01:00                  0.0                23.72726   \n",
       "2  01/01/2007 02:00                  0.0                23.72726   \n",
       "3  01/01/2007 03:00                  0.0                23.72726   \n",
       "4  01/01/2007 04:00                  0.0                23.72726   \n",
       "\n",
       "   Wind Speed(m/s)  AC Load(kW)  \n",
       "0         2.856398     0.106465  \n",
       "1         2.546373     0.091539  \n",
       "2         2.334827     0.252012  \n",
       "3         0.927367     0.266231  \n",
       "4         1.141059     0.415482  "
      ]
     },
     "execution_count": 4,
     "metadata": {},
     "output_type": "execute_result"
    }
   ],
   "source": [
    "data_one.head()"
   ]
  },
  {
   "cell_type": "code",
   "execution_count": 5,
   "metadata": {},
   "outputs": [
    {
     "data": {
      "text/html": [
       "<div>\n",
       "<style scoped>\n",
       "    .dataframe tbody tr th:only-of-type {\n",
       "        vertical-align: middle;\n",
       "    }\n",
       "\n",
       "    .dataframe tbody tr th {\n",
       "        vertical-align: top;\n",
       "    }\n",
       "\n",
       "    .dataframe thead th {\n",
       "        text-align: right;\n",
       "    }\n",
       "</style>\n",
       "<table border=\"1\" class=\"dataframe\">\n",
       "  <thead>\n",
       "    <tr style=\"text-align: right;\">\n",
       "      <th></th>\n",
       "      <th>Time</th>\n",
       "      <th>Global Solar(kW/m2)</th>\n",
       "      <th>PV Cell Temperature(C)</th>\n",
       "      <th>Wind Speed(m/s)</th>\n",
       "      <th>AC Load(kW)</th>\n",
       "    </tr>\n",
       "  </thead>\n",
       "  <tbody>\n",
       "    <tr>\n",
       "      <th>0</th>\n",
       "      <td>01/01/2007 00:00</td>\n",
       "      <td>0.0</td>\n",
       "      <td>23.72726</td>\n",
       "      <td>2.856398</td>\n",
       "      <td>0.302041</td>\n",
       "    </tr>\n",
       "    <tr>\n",
       "      <th>1</th>\n",
       "      <td>01/01/2007 01:00</td>\n",
       "      <td>0.0</td>\n",
       "      <td>23.72726</td>\n",
       "      <td>2.546373</td>\n",
       "      <td>0.277418</td>\n",
       "    </tr>\n",
       "    <tr>\n",
       "      <th>2</th>\n",
       "      <td>01/01/2007 02:00</td>\n",
       "      <td>0.0</td>\n",
       "      <td>23.72726</td>\n",
       "      <td>2.334827</td>\n",
       "      <td>0.314410</td>\n",
       "    </tr>\n",
       "    <tr>\n",
       "      <th>3</th>\n",
       "      <td>01/01/2007 03:00</td>\n",
       "      <td>0.0</td>\n",
       "      <td>23.72726</td>\n",
       "      <td>0.927367</td>\n",
       "      <td>0.339892</td>\n",
       "    </tr>\n",
       "    <tr>\n",
       "      <th>4</th>\n",
       "      <td>01/01/2007 04:00</td>\n",
       "      <td>0.0</td>\n",
       "      <td>23.72726</td>\n",
       "      <td>1.141059</td>\n",
       "      <td>0.379358</td>\n",
       "    </tr>\n",
       "  </tbody>\n",
       "</table>\n",
       "</div>"
      ],
      "text/plain": [
       "               Time  Global Solar(kW/m2)  PV Cell Temperature(C)  \\\n",
       "0  01/01/2007 00:00                  0.0                23.72726   \n",
       "1  01/01/2007 01:00                  0.0                23.72726   \n",
       "2  01/01/2007 02:00                  0.0                23.72726   \n",
       "3  01/01/2007 03:00                  0.0                23.72726   \n",
       "4  01/01/2007 04:00                  0.0                23.72726   \n",
       "\n",
       "   Wind Speed(m/s)  AC Load(kW)  \n",
       "0         2.856398     0.302041  \n",
       "1         2.546373     0.277418  \n",
       "2         2.334827     0.314410  \n",
       "3         0.927367     0.339892  \n",
       "4         1.141059     0.379358  "
      ]
     },
     "execution_count": 5,
     "metadata": {},
     "output_type": "execute_result"
    }
   ],
   "source": [
    "data_two.head()"
   ]
  },
  {
   "cell_type": "code",
   "execution_count": 6,
   "metadata": {},
   "outputs": [
    {
     "data": {
      "text/html": [
       "<div>\n",
       "<style scoped>\n",
       "    .dataframe tbody tr th:only-of-type {\n",
       "        vertical-align: middle;\n",
       "    }\n",
       "\n",
       "    .dataframe tbody tr th {\n",
       "        vertical-align: top;\n",
       "    }\n",
       "\n",
       "    .dataframe thead th {\n",
       "        text-align: right;\n",
       "    }\n",
       "</style>\n",
       "<table border=\"1\" class=\"dataframe\">\n",
       "  <thead>\n",
       "    <tr style=\"text-align: right;\">\n",
       "      <th></th>\n",
       "      <th>Time</th>\n",
       "      <th>Global Solar(kW/m2)</th>\n",
       "      <th>PV Cell Temperature(C)</th>\n",
       "      <th>Wind Speed(m/s)</th>\n",
       "      <th>AC Load(kW)</th>\n",
       "    </tr>\n",
       "  </thead>\n",
       "  <tbody>\n",
       "    <tr>\n",
       "      <th>0</th>\n",
       "      <td>01/01/1900 00:00</td>\n",
       "      <td>0.0</td>\n",
       "      <td>23.72726</td>\n",
       "      <td>2.856398</td>\n",
       "      <td>0.267362</td>\n",
       "    </tr>\n",
       "    <tr>\n",
       "      <th>1</th>\n",
       "      <td>01/01/2007 01:00</td>\n",
       "      <td>0.0</td>\n",
       "      <td>23.72726</td>\n",
       "      <td>2.546373</td>\n",
       "      <td>0.261268</td>\n",
       "    </tr>\n",
       "    <tr>\n",
       "      <th>2</th>\n",
       "      <td>01/01/2007 02:00</td>\n",
       "      <td>0.0</td>\n",
       "      <td>23.72726</td>\n",
       "      <td>2.334827</td>\n",
       "      <td>0.297415</td>\n",
       "    </tr>\n",
       "    <tr>\n",
       "      <th>3</th>\n",
       "      <td>01/01/2007 03:00</td>\n",
       "      <td>0.0</td>\n",
       "      <td>23.72726</td>\n",
       "      <td>0.927367</td>\n",
       "      <td>0.340475</td>\n",
       "    </tr>\n",
       "    <tr>\n",
       "      <th>4</th>\n",
       "      <td>01/01/2007 04:00</td>\n",
       "      <td>0.0</td>\n",
       "      <td>23.72726</td>\n",
       "      <td>1.141059</td>\n",
       "      <td>0.390449</td>\n",
       "    </tr>\n",
       "  </tbody>\n",
       "</table>\n",
       "</div>"
      ],
      "text/plain": [
       "               Time  Global Solar(kW/m2)  PV Cell Temperature(C)  \\\n",
       "0  01/01/1900 00:00                  0.0                23.72726   \n",
       "1  01/01/2007 01:00                  0.0                23.72726   \n",
       "2  01/01/2007 02:00                  0.0                23.72726   \n",
       "3  01/01/2007 03:00                  0.0                23.72726   \n",
       "4  01/01/2007 04:00                  0.0                23.72726   \n",
       "\n",
       "   Wind Speed(m/s)  AC Load(kW)  \n",
       "0         2.856398     0.267362  \n",
       "1         2.546373     0.261268  \n",
       "2         2.334827     0.297415  \n",
       "3         0.927367     0.340475  \n",
       "4         1.141059     0.390449  "
      ]
     },
     "execution_count": 6,
     "metadata": {},
     "output_type": "execute_result"
    }
   ],
   "source": [
    "data_three.head()"
   ]
  },
  {
   "cell_type": "code",
   "execution_count": 24,
   "metadata": {},
   "outputs": [
    {
     "data": {
      "image/png": "[encoded data removed]",
      "text/plain": [
       "<Figure size 720x720 with 1 Axes>"
      ]
     },
     "metadata": {
      "needs_background": "light"
     },
     "output_type": "display_data"
    }
   ],
   "source": [
    "data_one.plot(x='PV Cell Temperature(C)',y='Global Solar(kW/m2)',kind='scatter',figsize=(10,10))\n",
    "plt.title(\"Feature relationship of One Bedroom\")\n",
    "plt.savefig('One_bedroom.png')"
   ]
  },
  {
   "cell_type": "code",
   "execution_count": 7,
   "metadata": {},
   "outputs": [
    {
     "name": "stdout",
     "output_type": "stream",
     "text": [
      "<class 'pandas.core.frame.DataFrame'>\n",
      "RangeIndex: 8760 entries, 0 to 8759\n",
      "Data columns (total 5 columns):\n",
      " #   Column                  Non-Null Count  Dtype  \n",
      "---  ------                  --------------  -----  \n",
      " 0   Time                    8760 non-null   object \n",
      " 1   Global Solar(kW/m2)     8760 non-null   float64\n",
      " 2   PV Cell Temperature(C)  8760 non-null   float64\n",
      " 3   Wind Speed(m/s)         8760 non-null   float64\n",
      " 4   AC Load(kW)             8760 non-null   float64\n",
      "dtypes: float64(4), object(1)\n",
      "memory usage: 342.3+ KB\n"
     ]
    }
   ],
   "source": [
    "data_one.info()"
   ]
  },
  {
   "cell_type": "markdown",
   "metadata": {},
   "source": [
    "# DATA ENGINEERING"
   ]
  },
  {
   "cell_type": "code",
   "execution_count": 27,
   "metadata": {},
   "outputs": [],
   "source": [
    "#one room\n",
    "#Time Feature\n",
    "data_one['Month']=data_one['Time'].apply(lambda x:re.search(r'^\\d+',x).group(0)).astype(np.int64)\n",
    "data_one['Day']=data_one['Time'].apply(lambda x:re.search(r'(?<=\\/)\\d+(?=\\/)',x).group(0)).astype(np.int64)\n",
    "data_one['Hour']=data_one['Time'].apply(lambda x:re.search(r'(^\\d+)',x).group(0)).astype(np.int64)\n",
    "data_one=data_one.drop('Time',axis=1)\n",
    "\n"
   ]
  },
  {
   "cell_type": "code",
   "execution_count": 28,
   "metadata": {},
   "outputs": [],
   "source": [
    "data_one.to_csv('one_room.csv',index=False)"
   ]
  },
  {
   "cell_type": "code",
   "execution_count": 29,
   "metadata": {},
   "outputs": [],
   "source": [
    "#Two rooms\n",
    "data_two['Month']=data_two['Time'].apply(lambda x:re.search(r'^\\d+',x).group(0)).astype(np.int64)\n",
    "data_two['Day']=data_two['Time'].apply(lambda x:re.search(r'(?<=\\/)\\d+(?=\\/)',x).group(0)).astype(np.int64)\n",
    "data_two['Hour']=data_two['Time'].apply(lambda x:re.search(r'(^\\d+)',x).group(0)).astype(np.int64)\n",
    "data_two=data_two.drop('Time',axis=1)\n"
   ]
  },
  {
   "cell_type": "code",
   "execution_count": 30,
   "metadata": {},
   "outputs": [],
   "source": [
    "#Three Bedrooms\n",
    "data_three['Month']=data_three['Time'].apply(lambda x:re.search(r'^\\d+',x).group(0)).astype(np.int64)\n",
    "data_three['Day']=data_three['Time'].apply(lambda x:re.search(r'(?<=\\/)\\d+(?=\\/)',x).group(0)).astype(np.int64)\n",
    "data_three['Hour']=data_three['Time'].apply(lambda x:re.search(r'(^\\d+)',x).group(0)).astype(np.int64)\n",
    "data_three=data_three.drop('Time',axis=1)"
   ]
  },
  {
   "cell_type": "code",
   "execution_count": 31,
   "metadata": {},
   "outputs": [
    {
     "data": {
      "text/html": [
       "<div>\n",
       "<style scoped>\n",
       "    .dataframe tbody tr th:only-of-type {\n",
       "        vertical-align: middle;\n",
       "    }\n",
       "\n",
       "    .dataframe tbody tr th {\n",
       "        vertical-align: top;\n",
       "    }\n",
       "\n",
       "    .dataframe thead th {\n",
       "        text-align: right;\n",
       "    }\n",
       "</style>\n",
       "<table border=\"1\" class=\"dataframe\">\n",
       "  <thead>\n",
       "    <tr style=\"text-align: right;\">\n",
       "      <th></th>\n",
       "      <th>Global Solar(kW/m2)</th>\n",
       "      <th>PV Cell Temperature(C)</th>\n",
       "      <th>Wind Speed(m/s)</th>\n",
       "      <th>AC Load(kW)</th>\n",
       "      <th>Month</th>\n",
       "      <th>Day</th>\n",
       "      <th>Hour</th>\n",
       "    </tr>\n",
       "  </thead>\n",
       "  <tbody>\n",
       "    <tr>\n",
       "      <th>0</th>\n",
       "      <td>0.0</td>\n",
       "      <td>23.72726</td>\n",
       "      <td>2.856398</td>\n",
       "      <td>0.302041</td>\n",
       "      <td>1</td>\n",
       "      <td>1</td>\n",
       "      <td>1</td>\n",
       "    </tr>\n",
       "    <tr>\n",
       "      <th>1</th>\n",
       "      <td>0.0</td>\n",
       "      <td>23.72726</td>\n",
       "      <td>2.546373</td>\n",
       "      <td>0.277418</td>\n",
       "      <td>1</td>\n",
       "      <td>1</td>\n",
       "      <td>1</td>\n",
       "    </tr>\n",
       "    <tr>\n",
       "      <th>2</th>\n",
       "      <td>0.0</td>\n",
       "      <td>23.72726</td>\n",
       "      <td>2.334827</td>\n",
       "      <td>0.314410</td>\n",
       "      <td>1</td>\n",
       "      <td>1</td>\n",
       "      <td>1</td>\n",
       "    </tr>\n",
       "    <tr>\n",
       "      <th>3</th>\n",
       "      <td>0.0</td>\n",
       "      <td>23.72726</td>\n",
       "      <td>0.927367</td>\n",
       "      <td>0.339892</td>\n",
       "      <td>1</td>\n",
       "      <td>1</td>\n",
       "      <td>1</td>\n",
       "    </tr>\n",
       "    <tr>\n",
       "      <th>4</th>\n",
       "      <td>0.0</td>\n",
       "      <td>23.72726</td>\n",
       "      <td>1.141059</td>\n",
       "      <td>0.379358</td>\n",
       "      <td>1</td>\n",
       "      <td>1</td>\n",
       "      <td>1</td>\n",
       "    </tr>\n",
       "  </tbody>\n",
       "</table>\n",
       "</div>"
      ],
      "text/plain": [
       "   Global Solar(kW/m2)  PV Cell Temperature(C)  Wind Speed(m/s)  AC Load(kW)  \\\n",
       "0                  0.0                23.72726         2.856398     0.302041   \n",
       "1                  0.0                23.72726         2.546373     0.277418   \n",
       "2                  0.0                23.72726         2.334827     0.314410   \n",
       "3                  0.0                23.72726         0.927367     0.339892   \n",
       "4                  0.0                23.72726         1.141059     0.379358   \n",
       "\n",
       "   Month  Day  Hour  \n",
       "0      1    1     1  \n",
       "1      1    1     1  \n",
       "2      1    1     1  \n",
       "3      1    1     1  \n",
       "4      1    1     1  "
      ]
     },
     "execution_count": 31,
     "metadata": {},
     "output_type": "execute_result"
    }
   ],
   "source": [
    "data_two.head()"
   ]
  },
  {
   "cell_type": "code",
   "execution_count": 32,
   "metadata": {},
   "outputs": [
    {
     "data": {
      "text/html": [
       "<div>\n",
       "<style scoped>\n",
       "    .dataframe tbody tr th:only-of-type {\n",
       "        vertical-align: middle;\n",
       "    }\n",
       "\n",
       "    .dataframe tbody tr th {\n",
       "        vertical-align: top;\n",
       "    }\n",
       "\n",
       "    .dataframe thead th {\n",
       "        text-align: right;\n",
       "    }\n",
       "</style>\n",
       "<table border=\"1\" class=\"dataframe\">\n",
       "  <thead>\n",
       "    <tr style=\"text-align: right;\">\n",
       "      <th></th>\n",
       "      <th>Global Solar(kW/m2)</th>\n",
       "      <th>PV Cell Temperature(C)</th>\n",
       "      <th>Wind Speed(m/s)</th>\n",
       "      <th>AC Load(kW)</th>\n",
       "      <th>Month</th>\n",
       "      <th>Day</th>\n",
       "      <th>Hour</th>\n",
       "    </tr>\n",
       "  </thead>\n",
       "  <tbody>\n",
       "    <tr>\n",
       "      <th>0</th>\n",
       "      <td>0.0</td>\n",
       "      <td>23.72726</td>\n",
       "      <td>2.856398</td>\n",
       "      <td>0.267362</td>\n",
       "      <td>1</td>\n",
       "      <td>1</td>\n",
       "      <td>1</td>\n",
       "    </tr>\n",
       "    <tr>\n",
       "      <th>1</th>\n",
       "      <td>0.0</td>\n",
       "      <td>23.72726</td>\n",
       "      <td>2.546373</td>\n",
       "      <td>0.261268</td>\n",
       "      <td>1</td>\n",
       "      <td>1</td>\n",
       "      <td>1</td>\n",
       "    </tr>\n",
       "    <tr>\n",
       "      <th>2</th>\n",
       "      <td>0.0</td>\n",
       "      <td>23.72726</td>\n",
       "      <td>2.334827</td>\n",
       "      <td>0.297415</td>\n",
       "      <td>1</td>\n",
       "      <td>1</td>\n",
       "      <td>1</td>\n",
       "    </tr>\n",
       "    <tr>\n",
       "      <th>3</th>\n",
       "      <td>0.0</td>\n",
       "      <td>23.72726</td>\n",
       "      <td>0.927367</td>\n",
       "      <td>0.340475</td>\n",
       "      <td>1</td>\n",
       "      <td>1</td>\n",
       "      <td>1</td>\n",
       "    </tr>\n",
       "    <tr>\n",
       "      <th>4</th>\n",
       "      <td>0.0</td>\n",
       "      <td>23.72726</td>\n",
       "      <td>1.141059</td>\n",
       "      <td>0.390449</td>\n",
       "      <td>1</td>\n",
       "      <td>1</td>\n",
       "      <td>1</td>\n",
       "    </tr>\n",
       "  </tbody>\n",
       "</table>\n",
       "</div>"
      ],
      "text/plain": [
       "   Global Solar(kW/m2)  PV Cell Temperature(C)  Wind Speed(m/s)  AC Load(kW)  \\\n",
       "0                  0.0                23.72726         2.856398     0.267362   \n",
       "1                  0.0                23.72726         2.546373     0.261268   \n",
       "2                  0.0                23.72726         2.334827     0.297415   \n",
       "3                  0.0                23.72726         0.927367     0.340475   \n",
       "4                  0.0                23.72726         1.141059     0.390449   \n",
       "\n",
       "   Month  Day  Hour  \n",
       "0      1    1     1  \n",
       "1      1    1     1  \n",
       "2      1    1     1  \n",
       "3      1    1     1  \n",
       "4      1    1     1  "
      ]
     },
     "execution_count": 32,
     "metadata": {},
     "output_type": "execute_result"
    }
   ],
   "source": [
    "data_three.head()"
   ]
  },
  {
   "cell_type": "code",
   "execution_count": 33,
   "metadata": {},
   "outputs": [],
   "source": [
    "train, test, valid=data_one[:6000],data_one[6000:7000],data_one[7000:]"
   ]
  },
  {
   "cell_type": "code",
   "execution_count": 34,
   "metadata": {},
   "outputs": [
    {
     "data": {
      "text/plain": [
       "((6000, 7), (1000, 7), (1760, 7))"
      ]
     },
     "execution_count": 34,
     "metadata": {},
     "output_type": "execute_result"
    }
   ],
   "source": [
    "train.shape,test.shape,valid.shape"
   ]
  },
  {
   "cell_type": "code",
   "execution_count": 35,
   "metadata": {},
   "outputs": [
    {
     "data": {
      "text/plain": [
       "((6000, 6), (6000,), (1760, 6), (1760,), (1000, 6), (1000,))"
      ]
     },
     "execution_count": 35,
     "metadata": {},
     "output_type": "execute_result"
    }
   ],
   "source": [
    "#x_train,y_train=x.to_numpy(),y.to_numpy()\n",
    "x_train,y_train=train.drop('PV Cell Temperature(C)',axis=1).to_numpy(),train['PV Cell Temperature(C)'].to_numpy()\n",
    "x_val,y_val=valid.drop('PV Cell Temperature(C)',axis=1).to_numpy(),valid['PV Cell Temperature(C)'].to_numpy()\n",
    "x_test,y_test=test.drop('PV Cell Temperature(C)',axis=1).to_numpy(),test['PV Cell Temperature(C)'].to_numpy()\n",
    "\n",
    "x_train.shape,y_train.shape,x_val.shape,y_val.shape,x_test.shape,y_test.shape"
   ]
  },
  {
   "cell_type": "code",
   "execution_count": 36,
   "metadata": {
    "scrolled": false
   },
   "outputs": [],
   "source": [
    "scaler=StandardScaler().fit(x_train[:])\n",
    "def preprocessor(x):\n",
    "    A=np.copy(x)\n",
    "    A[: , :]=scaler.transform(A[:,:])\n",
    "    return A\n",
    "\n",
    "x_train,x_val,x_test=preprocessor(x_train),preprocessor(x_val),preprocessor(x_test)\n",
    "\n"
   ]
  },
  {
   "cell_type": "code",
   "execution_count": 37,
   "metadata": {},
   "outputs": [
    {
     "data": {
      "text/plain": [
       "((6000, 6), (1760, 6), (1000, 6))"
      ]
     },
     "execution_count": 37,
     "metadata": {},
     "output_type": "execute_result"
    }
   ],
   "source": [
    "x_train.shape,x_val.shape,x_test.shape"
   ]
  },
  {
   "cell_type": "markdown",
   "metadata": {},
   "source": [
    "# MODEL TRAINING"
   ]
  },
  {
   "cell_type": "code",
   "execution_count": 38,
   "metadata": {},
   "outputs": [],
   "source": [
    "#Linear regression\n",
    "from sklearn.linear_model import LinearRegression\n",
    "from sklearn.metrics import mean_squared_error as mse"
   ]
  },
  {
   "cell_type": "code",
   "execution_count": 39,
   "metadata": {},
   "outputs": [
    {
     "data": {
      "text/plain": [
       "(2.809081423849909, 2.5050545777171647)"
      ]
     },
     "execution_count": 39,
     "metadata": {},
     "output_type": "execute_result"
    }
   ],
   "source": [
    "lm=LinearRegression().fit(x_train,y_train)\n",
    "mse(lm.predict(x_train),y_train,squared=False),mse(lm.predict(x_val),y_val,squared=False)\n"
   ]
  },
  {
   "cell_type": "code",
   "execution_count": 40,
   "metadata": {},
   "outputs": [
    {
     "data": {
      "text/plain": [
       "(1.3331038598932752, 2.1455671414905284)"
      ]
     },
     "execution_count": 40,
     "metadata": {},
     "output_type": "execute_result"
    }
   ],
   "source": [
    "#Kernel nearest neighbors\n",
    "from sklearn.neighbors import KNeighborsRegressor\n",
    "knn=KNeighborsRegressor(n_neighbors=8).fit(x_train,y_train)\n",
    "mse(knn.predict(x_train),y_train,squared=False),mse(knn.predict(x_val),y_val,squared=False)"
   ]
  },
  {
   "cell_type": "code",
   "execution_count": 41,
   "metadata": {},
   "outputs": [
    {
     "data": {
      "text/plain": [
       "(1.2276821720365994, 1.923104179255878)"
      ]
     },
     "execution_count": 41,
     "metadata": {},
     "output_type": "execute_result"
    }
   ],
   "source": [
    "#Random forest regressor\n",
    "from sklearn.ensemble import RandomForestRegressor\n",
    "rf=RandomForestRegressor(max_depth=7).fit(x_train,y_train)\n",
    "mse(rf.predict(x_train),y_train,squared=False),mse(rf.predict(x_val),y_val,squared=False)"
   ]
  },
  {
   "cell_type": "code",
   "execution_count": 42,
   "metadata": {},
   "outputs": [
    {
     "data": {
      "text/plain": [
       "(1.1547946671960376, 1.337331258356786)"
      ]
     },
     "execution_count": 42,
     "metadata": {},
     "output_type": "execute_result"
    }
   ],
   "source": [
    "#Gradient Boosting Regressor\n",
    "from sklearn.ensemble import GradientBoostingRegressor\n",
    "\n",
    "gradB=GradientBoostingRegressor(n_estimators=300).fit(x_train,y_train)\n",
    "mse(gradB.predict(x_train),y_train,squared=False),mse(gradB.predict(x_val),y_val,squared=False)"
   ]
  },
  {
   "cell_type": "code",
   "execution_count": 43,
   "metadata": {},
   "outputs": [
    {
     "name": "stdout",
     "output_type": "stream",
     "text": [
      "WARNING:tensorflow:From C:\\Users\\HAASTRUP ADEBAYO\\anaconda3\\lib\\site-packages\\tensorflow\\python\\ops\\init_ops.py:1251: calling VarianceScaling.__init__ (from tensorflow.python.ops.init_ops) with dtype is deprecated and will be removed in a future version.\n",
      "Instructions for updating:\n",
      "Call initializer instance with the dtype argument instead of passing it to the constructor\n"
     ]
    }
   ],
   "source": [
    "#Neural Network\n",
    "nn=Sequential()\n",
    "nn.add(InputLayer((6,)))\n",
    "nn.add(Dense(2,'relu'))\n",
    "nn.add(Dense(1,'linear'))\n",
    "\n",
    "optimizer=Adam(learning_rate=.1)\n",
    "cp=ModelCheckpoint('pyth',save_best_only=True)\n",
    "\n"
   ]
  },
  {
   "cell_type": "code",
   "execution_count": 44,
   "metadata": {},
   "outputs": [
    {
     "name": "stdout",
     "output_type": "stream",
     "text": [
      "Train on 6000 samples, validate on 1760 samples\n",
      "Epoch 1/80\n",
      "6000/6000 [==============================] - 3s 511us/sample - loss: 181.4507 - root_mean_squared_error: 13.4704 - val_loss: 7.6240 - val_root_mean_squared_error: 2.7612\n",
      "Epoch 2/80\n",
      "6000/6000 [==============================] - 0s 56us/sample - loss: 8.3940 - root_mean_squared_error: 2.8972 - val_loss: 13.7724 - val_root_mean_squared_error: 3.7111\n",
      "Epoch 3/80\n",
      "6000/6000 [==============================] - 0s 66us/sample - loss: 8.4830 - root_mean_squared_error: 2.9126 - val_loss: 9.2488 - val_root_mean_squared_error: 3.0412\n",
      "Epoch 4/80\n",
      "6000/6000 [==============================] - 0s 63us/sample - loss: 8.3548 - root_mean_squared_error: 2.8905 - val_loss: 4.8033 - val_root_mean_squared_error: 2.1916\n",
      "Epoch 5/80\n",
      "6000/6000 [==============================] - 0s 55us/sample - loss: 8.3856 - root_mean_squared_error: 2.8958 - val_loss: 11.0823 - val_root_mean_squared_error: 3.3290\n",
      "Epoch 6/80\n",
      "6000/6000 [==============================] - 0s 58us/sample - loss: 8.4508 - root_mean_squared_error: 2.9070 - val_loss: 14.0370 - val_root_mean_squared_error: 3.7466\n",
      "Epoch 7/80\n",
      "6000/6000 [==============================] - 1s 85us/sample - loss: 8.5442 - root_mean_squared_error: 2.9230 - val_loss: 4.1811 - val_root_mean_squared_error: 2.0448\n",
      "Epoch 8/80\n",
      "6000/6000 [==============================] - 0s 59us/sample - loss: 8.5763 - root_mean_squared_error: 2.9285 - val_loss: 22.0353 - val_root_mean_squared_error: 4.6942\n",
      "Epoch 9/80\n",
      "6000/6000 [==============================] - 0s 70us/sample - loss: 8.5088 - root_mean_squared_error: 2.9170 - val_loss: 3.0141 - val_root_mean_squared_error: 1.7361\n",
      "Epoch 10/80\n",
      "6000/6000 [==============================] - 0s 56us/sample - loss: 8.7220 - root_mean_squared_error: 2.9533 - val_loss: 4.1492 - val_root_mean_squared_error: 2.0370\n",
      "Epoch 11/80\n",
      "6000/6000 [==============================] - 0s 57us/sample - loss: 8.6143 - root_mean_squared_error: 2.9350 - val_loss: 3.7308 - val_root_mean_squared_error: 1.9315\n",
      "Epoch 12/80\n",
      "6000/6000 [==============================] - 0s 56us/sample - loss: 8.4743 - root_mean_squared_error: 2.9111 - val_loss: 4.4489 - val_root_mean_squared_error: 2.1092\n",
      "Epoch 13/80\n",
      "6000/6000 [==============================] - 0s 65us/sample - loss: 8.9035 - root_mean_squared_error: 2.9839 - val_loss: 15.0137 - val_root_mean_squared_error: 3.8748\n",
      "Epoch 14/80\n",
      "6000/6000 [==============================] - 0s 55us/sample - loss: 8.7979 - root_mean_squared_error: 2.9661 - val_loss: 8.0532 - val_root_mean_squared_error: 2.8378\n",
      "Epoch 15/80\n",
      "6000/6000 [==============================] - 0s 54us/sample - loss: 9.0109 - root_mean_squared_error: 3.0018 - val_loss: 7.5957 - val_root_mean_squared_error: 2.7560\n",
      "Epoch 16/80\n",
      "6000/6000 [==============================] - 0s 60us/sample - loss: 8.6344 - root_mean_squared_error: 2.9384 - val_loss: 10.3753 - val_root_mean_squared_error: 3.2211\n",
      "Epoch 17/80\n",
      "6000/6000 [==============================] - 0s 55us/sample - loss: 8.5393 - root_mean_squared_error: 2.9222 - val_loss: 16.3865 - val_root_mean_squared_error: 4.0480\n",
      "Epoch 18/80\n",
      "6000/6000 [==============================] - 0s 64us/sample - loss: 8.8682 - root_mean_squared_error: 2.9779 - val_loss: 4.3138 - val_root_mean_squared_error: 2.0770\n",
      "Epoch 19/80\n",
      "6000/6000 [==============================] - 0s 65us/sample - loss: 8.8126 - root_mean_squared_error: 2.9686 - val_loss: 8.8374 - val_root_mean_squared_error: 2.9728\n",
      "Epoch 20/80\n",
      "6000/6000 [==============================] - 0s 54us/sample - loss: 8.5340 - root_mean_squared_error: 2.9213 - val_loss: 10.9690 - val_root_mean_squared_error: 3.3120\n",
      "Epoch 21/80\n",
      "6000/6000 [==============================] - 0s 58us/sample - loss: 8.5199 - root_mean_squared_error: 2.9189 - val_loss: 5.6361 - val_root_mean_squared_error: 2.3740\n",
      "Epoch 22/80\n",
      "6000/6000 [==============================] - 0s 58us/sample - loss: 8.4244 - root_mean_squared_error: 2.9025 - val_loss: 7.3176 - val_root_mean_squared_error: 2.7051\n",
      "Epoch 23/80\n",
      "6000/6000 [==============================] - 0s 61us/sample - loss: 8.4800 - root_mean_squared_error: 2.9121 - val_loss: 6.8724 - val_root_mean_squared_error: 2.6215\n",
      "Epoch 24/80\n",
      "6000/6000 [==============================] - 0s 55us/sample - loss: 8.5438 - root_mean_squared_error: 2.9230 - val_loss: 11.2237 - val_root_mean_squared_error: 3.3502\n",
      "Epoch 25/80\n",
      "6000/6000 [==============================] - 0s 55us/sample - loss: 8.6238 - root_mean_squared_error: 2.9366 - val_loss: 12.9876 - val_root_mean_squared_error: 3.6038\n",
      "Epoch 26/80\n",
      "6000/6000 [==============================] - 0s 59us/sample - loss: 8.8414 - root_mean_squared_error: 2.9735 - val_loss: 7.2883 - val_root_mean_squared_error: 2.6997\n",
      "Epoch 27/80\n",
      "6000/6000 [==============================] - 1s 89us/sample - loss: 8.4599 - root_mean_squared_error: 2.9086 - val_loss: 2.7317 - val_root_mean_squared_error: 1.6528\n",
      "Epoch 28/80\n",
      "6000/6000 [==============================] - 0s 60us/sample - loss: 8.7644 - root_mean_squared_error: 2.9605 - val_loss: 5.0476 - val_root_mean_squared_error: 2.2467\n",
      "Epoch 29/80\n",
      "6000/6000 [==============================] - 0s 56us/sample - loss: 8.6061 - root_mean_squared_error: 2.9336 - val_loss: 9.0729 - val_root_mean_squared_error: 3.0121\n",
      "Epoch 30/80\n",
      "6000/6000 [==============================] - 0s 63us/sample - loss: 8.4379 - root_mean_squared_error: 2.9048 - val_loss: 10.7353 - val_root_mean_squared_error: 3.2765\n",
      "Epoch 31/80\n",
      "6000/6000 [==============================] - 0s 65us/sample - loss: 8.6019 - root_mean_squared_error: 2.9329 - val_loss: 8.6803 - val_root_mean_squared_error: 2.9462\n",
      "Epoch 32/80\n",
      "6000/6000 [==============================] - 1s 98us/sample - loss: 8.3086 - root_mean_squared_error: 2.8825 - val_loss: 2.1359 - val_root_mean_squared_error: 1.4615\n",
      "Epoch 33/80\n",
      "6000/6000 [==============================] - 0s 63us/sample - loss: 8.5663 - root_mean_squared_error: 2.9268 - val_loss: 12.3768 - val_root_mean_squared_error: 3.5181\n",
      "Epoch 34/80\n",
      "6000/6000 [==============================] - 0s 60us/sample - loss: 8.3380 - root_mean_squared_error: 2.8876 - val_loss: 9.4607 - val_root_mean_squared_error: 3.0758\n",
      "Epoch 35/80\n",
      "6000/6000 [==============================] - 0s 64us/sample - loss: 8.4952 - root_mean_squared_error: 2.9147 - val_loss: 6.4686 - val_root_mean_squared_error: 2.5433\n",
      "Epoch 36/80\n",
      "6000/6000 [==============================] - 0s 67us/sample - loss: 8.5282 - root_mean_squared_error: 2.9203 - val_loss: 4.3162 - val_root_mean_squared_error: 2.0775\n",
      "Epoch 37/80\n",
      "6000/6000 [==============================] - 0s 66us/sample - loss: 8.1387 - root_mean_squared_error: 2.8528 - val_loss: 5.8841 - val_root_mean_squared_error: 2.4257\n",
      "Epoch 38/80\n",
      "6000/6000 [==============================] - 0s 61us/sample - loss: 7.8487 - root_mean_squared_error: 2.8015 - val_loss: 6.2014 - val_root_mean_squared_error: 2.4903\n",
      "Epoch 39/80\n",
      "6000/6000 [==============================] - 0s 60us/sample - loss: 7.7233 - root_mean_squared_error: 2.7791 - val_loss: 8.3302 - val_root_mean_squared_error: 2.8862\n",
      "Epoch 40/80\n",
      "6000/6000 [==============================] - 0s 64us/sample - loss: 7.9532 - root_mean_squared_error: 2.8201 - val_loss: 4.3827 - val_root_mean_squared_error: 2.0935\n",
      "Epoch 41/80\n",
      "6000/6000 [==============================] - 0s 61us/sample - loss: 7.7478 - root_mean_squared_error: 2.7835 - val_loss: 10.7327 - val_root_mean_squared_error: 3.2761\n",
      "Epoch 42/80\n",
      "6000/6000 [==============================] - 0s 66us/sample - loss: 7.7457 - root_mean_squared_error: 2.7831 - val_loss: 10.4714 - val_root_mean_squared_error: 3.2360\n",
      "Epoch 43/80\n",
      "6000/6000 [==============================] - 0s 65us/sample - loss: 7.9130 - root_mean_squared_error: 2.8130 - val_loss: 4.1836 - val_root_mean_squared_error: 2.0454\n",
      "Epoch 44/80\n",
      "6000/6000 [==============================] - 0s 63us/sample - loss: 7.8633 - root_mean_squared_error: 2.8042 - val_loss: 11.5324 - val_root_mean_squared_error: 3.3959\n",
      "Epoch 45/80\n",
      "6000/6000 [==============================] - 0s 66us/sample - loss: 7.7487 - root_mean_squared_error: 2.7837 - val_loss: 3.3761 - val_root_mean_squared_error: 1.8374\n",
      "Epoch 46/80\n",
      "6000/6000 [==============================] - 0s 60us/sample - loss: 7.8800 - root_mean_squared_error: 2.8071 - val_loss: 6.7528 - val_root_mean_squared_error: 2.5986\n"
     ]
    },
    {
     "name": "stdout",
     "output_type": "stream",
     "text": [
      "Epoch 47/80\n",
      "6000/6000 [==============================] - 0s 55us/sample - loss: 7.7970 - root_mean_squared_error: 2.7923 - val_loss: 4.7941 - val_root_mean_squared_error: 2.1895\n",
      "Epoch 48/80\n",
      "6000/6000 [==============================] - 0s 52us/sample - loss: 7.7975 - root_mean_squared_error: 2.7924 - val_loss: 5.9415 - val_root_mean_squared_error: 2.4375\n",
      "Epoch 49/80\n",
      "6000/6000 [==============================] - 0s 54us/sample - loss: 8.1519 - root_mean_squared_error: 2.8552 - val_loss: 6.5875 - val_root_mean_squared_error: 2.5666\n",
      "Epoch 50/80\n",
      "6000/6000 [==============================] - 0s 53us/sample - loss: 7.6954 - root_mean_squared_error: 2.7741 - val_loss: 3.4704 - val_root_mean_squared_error: 1.8629\n",
      "Epoch 51/80\n",
      "6000/6000 [==============================] - 0s 54us/sample - loss: 7.9255 - root_mean_squared_error: 2.8152 - val_loss: 8.0055 - val_root_mean_squared_error: 2.8294\n",
      "Epoch 52/80\n",
      "6000/6000 [==============================] - 0s 54us/sample - loss: 7.7598 - root_mean_squared_error: 2.7856 - val_loss: 7.2088 - val_root_mean_squared_error: 2.6849\n",
      "Epoch 53/80\n",
      "6000/6000 [==============================] - 0s 53us/sample - loss: 7.8185 - root_mean_squared_error: 2.7961 - val_loss: 5.3259 - val_root_mean_squared_error: 2.3078\n",
      "Epoch 54/80\n",
      "6000/6000 [==============================] - 0s 53us/sample - loss: 7.8189 - root_mean_squared_error: 2.7962 - val_loss: 8.5925 - val_root_mean_squared_error: 2.9313\n",
      "Epoch 55/80\n",
      "6000/6000 [==============================] - 0s 52us/sample - loss: 7.7902 - root_mean_squared_error: 2.7911 - val_loss: 6.1194 - val_root_mean_squared_error: 2.4737\n",
      "Epoch 56/80\n",
      "6000/6000 [==============================] - 0s 62us/sample - loss: 7.7555 - root_mean_squared_error: 2.7849 - val_loss: 8.0400 - val_root_mean_squared_error: 2.8355\n",
      "Epoch 57/80\n",
      "6000/6000 [==============================] - 0s 54us/sample - loss: 7.7989 - root_mean_squared_error: 2.7927 - val_loss: 7.5992 - val_root_mean_squared_error: 2.7567\n",
      "Epoch 58/80\n",
      "6000/6000 [==============================] - 0s 54us/sample - loss: 7.6894 - root_mean_squared_error: 2.7730 - val_loss: 8.3432 - val_root_mean_squared_error: 2.8885\n",
      "Epoch 59/80\n",
      "6000/6000 [==============================] - 0s 56us/sample - loss: 7.7680 - root_mean_squared_error: 2.7871 - val_loss: 9.8886 - val_root_mean_squared_error: 3.1446\n",
      "Epoch 60/80\n",
      "6000/6000 [==============================] - 0s 56us/sample - loss: 7.8496 - root_mean_squared_error: 2.8017 - val_loss: 9.5157 - val_root_mean_squared_error: 3.0848\n",
      "Epoch 61/80\n",
      "6000/6000 [==============================] - 0s 60us/sample - loss: 7.8036 - root_mean_squared_error: 2.7935 - val_loss: 9.5747 - val_root_mean_squared_error: 3.0943\n",
      "Epoch 62/80\n",
      "6000/6000 [==============================] - 0s 53us/sample - loss: 7.6806 - root_mean_squared_error: 2.7714 - val_loss: 7.6991 - val_root_mean_squared_error: 2.7747\n",
      "Epoch 63/80\n",
      "6000/6000 [==============================] - 0s 53us/sample - loss: 7.7208 - root_mean_squared_error: 2.7786 - val_loss: 9.7747 - val_root_mean_squared_error: 3.1265\n",
      "Epoch 64/80\n",
      "6000/6000 [==============================] - 0s 53us/sample - loss: 7.6140 - root_mean_squared_error: 2.7593 - val_loss: 13.9140 - val_root_mean_squared_error: 3.7301\n",
      "Epoch 65/80\n",
      "6000/6000 [==============================] - 0s 55us/sample - loss: 8.0564 - root_mean_squared_error: 2.8384 - val_loss: 15.6246 - val_root_mean_squared_error: 3.9528\n",
      "Epoch 66/80\n",
      "6000/6000 [==============================] - 0s 56us/sample - loss: 7.7280 - root_mean_squared_error: 2.7799 - val_loss: 18.4206 - val_root_mean_squared_error: 4.2919\n",
      "Epoch 67/80\n",
      "6000/6000 [==============================] - 0s 53us/sample - loss: 7.7135 - root_mean_squared_error: 2.7773 - val_loss: 11.3745 - val_root_mean_squared_error: 3.3726\n",
      "Epoch 68/80\n",
      "6000/6000 [==============================] - 0s 56us/sample - loss: 7.7861 - root_mean_squared_error: 2.7904 - val_loss: 12.1685 - val_root_mean_squared_error: 3.4883\n",
      "Epoch 69/80\n",
      "6000/6000 [==============================] - 0s 54us/sample - loss: 7.8840 - root_mean_squared_error: 2.8078 - val_loss: 9.2054 - val_root_mean_squared_error: 3.0340\n",
      "Epoch 70/80\n",
      "6000/6000 [==============================] - 0s 56us/sample - loss: 7.8758 - root_mean_squared_error: 2.8064 - val_loss: 13.7952 - val_root_mean_squared_error: 3.7142\n",
      "Epoch 71/80\n",
      "6000/6000 [==============================] - 0s 57us/sample - loss: 7.7420 - root_mean_squared_error: 2.7824 - val_loss: 18.3347 - val_root_mean_squared_error: 4.2819\n",
      "Epoch 72/80\n",
      "6000/6000 [==============================] - 0s 54us/sample - loss: 7.9014 - root_mean_squared_error: 2.8109 - val_loss: 13.7586 - val_root_mean_squared_error: 3.7093\n",
      "Epoch 73/80\n",
      "6000/6000 [==============================] - 0s 55us/sample - loss: 7.9408 - root_mean_squared_error: 2.8179 - val_loss: 13.3607 - val_root_mean_squared_error: 3.6552\n",
      "Epoch 74/80\n",
      "6000/6000 [==============================] - 0s 53us/sample - loss: 7.9134 - root_mean_squared_error: 2.8131 - val_loss: 10.9285 - val_root_mean_squared_error: 3.3058\n",
      "Epoch 75/80\n",
      "6000/6000 [==============================] - 0s 54us/sample - loss: 7.8217 - root_mean_squared_error: 2.7967 - val_loss: 13.4463 - val_root_mean_squared_error: 3.6669\n",
      "Epoch 76/80\n",
      "6000/6000 [==============================] - 0s 58us/sample - loss: 7.8406 - root_mean_squared_error: 2.8001 - val_loss: 14.0785 - val_root_mean_squared_error: 3.7521\n",
      "Epoch 77/80\n",
      "6000/6000 [==============================] - 0s 57us/sample - loss: 7.9065 - root_mean_squared_error: 2.8118 - val_loss: 11.5503 - val_root_mean_squared_error: 3.3986\n",
      "Epoch 78/80\n",
      "6000/6000 [==============================] - 0s 53us/sample - loss: 7.7113 - root_mean_squared_error: 2.7769 - val_loss: 13.3007 - val_root_mean_squared_error: 3.6470\n",
      "Epoch 79/80\n",
      "6000/6000 [==============================] - 0s 57us/sample - loss: 8.0528 - root_mean_squared_error: 2.8377 - val_loss: 21.8833 - val_root_mean_squared_error: 4.6780\n",
      "Epoch 80/80\n",
      "6000/6000 [==============================] - 0s 53us/sample - loss: 7.8423 - root_mean_squared_error: 2.8004 - val_loss: 8.2520 - val_root_mean_squared_error: 2.8726\n"
     ]
    },
    {
     "data": {
      "text/plain": [
       "<tensorflow.python.keras.callbacks.History at 0x25dd1b931c8>"
      ]
     },
     "execution_count": 44,
     "metadata": {},
     "output_type": "execute_result"
    }
   ],
   "source": [
    "nn.compile(optimizer=optimizer,loss='mse',metrics=[RootMeanSquaredError()])\n",
    "nn.fit(x=x_train,y=y_train,validation_data=(x_val,y_val),callbacks=[cp],epochs=80)"
   ]
  },
  {
   "cell_type": "code",
   "execution_count": 45,
   "metadata": {},
   "outputs": [
    {
     "data": {
      "text/plain": [
       "1.298810882111018"
      ]
     },
     "execution_count": 45,
     "metadata": {},
     "output_type": "execute_result"
    }
   ],
   "source": [
    "mse(gradB.predict(x_test),y_test,squared=False)"
   ]
  },
  {
   "cell_type": "code",
   "execution_count": 46,
   "metadata": {},
   "outputs": [],
   "source": [
    "#pd.DataFrame(x_test)\n",
    "prediction=gradB.predict(x_test)"
   ]
  },
  {
   "cell_type": "code",
   "execution_count": 59,
   "metadata": {},
   "outputs": [
    {
     "data": {
      "image/png": "[encoded data removed]",
      "text/plain": [
       "<Figure size 720x504 with 1 Axes>"
      ]
     },
     "metadata": {
      "needs_background": "light"
     },
     "output_type": "display_data"
    }
   ],
   "source": [
    "plt.figure(figsize=(10,7))\n",
    "plt.scatter(y_test,prediction)\n",
    "plt.xlabel(\"Actual value\")\n",
    "plt.ylabel(\"Prediction value\")\n",
    "plt.title(\"Scatterplot of GradientBoosting Model\")\n",
    "plt.savefig('Scatterplot_one_room.png')"
   ]
  },
  {
   "cell_type": "code",
   "execution_count": 60,
   "metadata": {},
   "outputs": [
    {
     "data": {
      "image/png": "[encoded data removed]",
      "text/plain": [
       "<Figure size 720x504 with 1 Axes>"
      ]
     },
     "metadata": {
      "needs_background": "light"
     },
     "output_type": "display_data"
    }
   ],
   "source": [
    "plt.figure(figsize=(10,7))\n",
    "sns.regplot(x=y_test,y=prediction,ci=None,color='blue')\n",
    "plt.xlabel(\"Actual value\")\n",
    "plt.ylabel(\"Prediction value\")\n",
    "plt.title(\"Regressionplot of GradientBoosting Model\")\n",
    "plt.savefig('Regressionplot_one_room.png')"
   ]
  },
  {
   "cell_type": "code",
   "execution_count": 67,
   "metadata": {},
   "outputs": [
    {
     "data": {
      "text/plain": [
       "(1000, 1)"
      ]
     },
     "execution_count": 67,
     "metadata": {},
     "output_type": "execute_result"
    }
   ],
   "source": [
    "result=pd.DataFrame(prediction,columns=['Predicted value'])\n",
    "result.shape"
   ]
  },
  {
   "cell_type": "code",
   "execution_count": 74,
   "metadata": {},
   "outputs": [
    {
     "data": {
      "text/html": [
       "<div>\n",
       "<style scoped>\n",
       "    .dataframe tbody tr th:only-of-type {\n",
       "        vertical-align: middle;\n",
       "    }\n",
       "\n",
       "    .dataframe tbody tr th {\n",
       "        vertical-align: top;\n",
       "    }\n",
       "\n",
       "    .dataframe thead th {\n",
       "        text-align: right;\n",
       "    }\n",
       "</style>\n",
       "<table border=\"1\" class=\"dataframe\">\n",
       "  <thead>\n",
       "    <tr style=\"text-align: right;\">\n",
       "      <th></th>\n",
       "      <th>0</th>\n",
       "      <th>1</th>\n",
       "      <th>2</th>\n",
       "      <th>3</th>\n",
       "      <th>4</th>\n",
       "      <th>5</th>\n",
       "      <th>PV Temp</th>\n",
       "      <th>Temp Prediction</th>\n",
       "    </tr>\n",
       "  </thead>\n",
       "  <tbody>\n",
       "    <tr>\n",
       "      <th>0</th>\n",
       "      <td>-0.741829</td>\n",
       "      <td>-1.222913</td>\n",
       "      <td>-1.250835</td>\n",
       "      <td>1.826488</td>\n",
       "      <td>-0.830103</td>\n",
       "      <td>1.826488</td>\n",
       "      <td>25.11769</td>\n",
       "      <td>25.141339</td>\n",
       "    </tr>\n",
       "    <tr>\n",
       "      <th>1</th>\n",
       "      <td>-0.741829</td>\n",
       "      <td>-1.588619</td>\n",
       "      <td>-1.381191</td>\n",
       "      <td>1.826488</td>\n",
       "      <td>-0.830103</td>\n",
       "      <td>1.826488</td>\n",
       "      <td>25.11769</td>\n",
       "      <td>25.325898</td>\n",
       "    </tr>\n",
       "    <tr>\n",
       "      <th>2</th>\n",
       "      <td>-0.741829</td>\n",
       "      <td>-1.640577</td>\n",
       "      <td>-0.860788</td>\n",
       "      <td>1.826488</td>\n",
       "      <td>-0.830103</td>\n",
       "      <td>1.826488</td>\n",
       "      <td>25.11769</td>\n",
       "      <td>25.325898</td>\n",
       "    </tr>\n",
       "    <tr>\n",
       "      <th>3</th>\n",
       "      <td>-0.741829</td>\n",
       "      <td>-1.561707</td>\n",
       "      <td>-0.961286</td>\n",
       "      <td>1.826488</td>\n",
       "      <td>-0.830103</td>\n",
       "      <td>1.826488</td>\n",
       "      <td>25.11769</td>\n",
       "      <td>25.555927</td>\n",
       "    </tr>\n",
       "    <tr>\n",
       "      <th>4</th>\n",
       "      <td>-0.741829</td>\n",
       "      <td>-1.514031</td>\n",
       "      <td>-0.509529</td>\n",
       "      <td>1.826488</td>\n",
       "      <td>-0.830103</td>\n",
       "      <td>1.826488</td>\n",
       "      <td>25.11769</td>\n",
       "      <td>25.103862</td>\n",
       "    </tr>\n",
       "  </tbody>\n",
       "</table>\n",
       "</div>"
      ],
      "text/plain": [
       "          0         1         2         3         4         5   PV Temp  \\\n",
       "0 -0.741829 -1.222913 -1.250835  1.826488 -0.830103  1.826488  25.11769   \n",
       "1 -0.741829 -1.588619 -1.381191  1.826488 -0.830103  1.826488  25.11769   \n",
       "2 -0.741829 -1.640577 -0.860788  1.826488 -0.830103  1.826488  25.11769   \n",
       "3 -0.741829 -1.561707 -0.961286  1.826488 -0.830103  1.826488  25.11769   \n",
       "4 -0.741829 -1.514031 -0.509529  1.826488 -0.830103  1.826488  25.11769   \n",
       "\n",
       "   Temp Prediction  \n",
       "0        25.141339  \n",
       "1        25.325898  \n",
       "2        25.325898  \n",
       "3        25.555927  \n",
       "4        25.103862  "
      ]
     },
     "execution_count": 74,
     "metadata": {},
     "output_type": "execute_result"
    }
   ],
   "source": [
    "result=pd.DataFrame(x_test)\n",
    "result['PV Temp']=pd.DataFrame(y_test)\n",
    "result['Temp Prediction']=pd.DataFrame(prediction)\n",
    "result.head()\n"
   ]
  },
  {
   "cell_type": "code",
   "execution_count": 76,
   "metadata": {},
   "outputs": [],
   "source": [
    "result.to_csv(\"One Room Output.csv\",index=False)"
   ]
  },
  {
   "cell_type": "code",
   "execution_count": null,
   "metadata": {},
   "outputs": [],
   "source": []
  }
 ],
 "metadata": {
  "kernelspec": {
   "display_name": "Python 3",
   "language": "python",
   "name": "python3"
  },
  "language_info": {
   "codemirror_mode": {
    "name": "ipython",
    "version": 3
   },
   "file_extension": ".py",
   "mimetype": "text/x-python",
   "name": "python",
   "nbconvert_exporter": "python",
   "pygments_lexer": "ipython3",
   "version": "3.7.6"
  }
 },
 "nbformat": 4,
 "nbformat_minor": 4
}
