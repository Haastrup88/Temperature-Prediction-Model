{
 "cells": [
  {
   "cell_type": "code",
   "execution_count": 2,
   "metadata": {},
   "outputs": [],
   "source": [
    "import pandas as pd\n",
    "import numpy as np\n",
    "import seaborn as sns\n",
    "import matplotlib.pyplot as plt\n",
    "from sklearn.preprocessing import StandardScaler\n",
    "import keras\n",
    "from tensorflow.keras.models import Sequential\n",
    "from tensorflow.keras.layers import *\n",
    "from tensorflow.keras.callbacks import ModelCheckpoint\n",
    "from tensorflow.keras.metrics import RootMeanSquaredError\n",
    "from tensorflow.keras.optimizers import Adam\n",
    "import re"
   ]
  },
  {
   "cell_type": "code",
   "execution_count": 3,
   "metadata": {},
   "outputs": [],
   "source": [
    "data_two=pd.read_csv(\"two bedroom.csv\")\n",
    "data_two.drop('Ambient Temperature',axis=1,inplace=True)"
   ]
  },
  {
   "cell_type": "code",
   "execution_count": 4,
   "metadata": {},
   "outputs": [
    {
     "data": {
      "text/html": [
       "<div>\n",
       "<style scoped>\n",
       "    .dataframe tbody tr th:only-of-type {\n",
       "        vertical-align: middle;\n",
       "    }\n",
       "\n",
       "    .dataframe tbody tr th {\n",
       "        vertical-align: top;\n",
       "    }\n",
       "\n",
       "    .dataframe thead th {\n",
       "        text-align: right;\n",
       "    }\n",
       "</style>\n",
       "<table border=\"1\" class=\"dataframe\">\n",
       "  <thead>\n",
       "    <tr style=\"text-align: right;\">\n",
       "      <th></th>\n",
       "      <th>Time</th>\n",
       "      <th>Global Solar(kW/m2)</th>\n",
       "      <th>PV Cell Temperature(C)</th>\n",
       "      <th>Wind Speed(m/s)</th>\n",
       "      <th>AC Load(kW)</th>\n",
       "    </tr>\n",
       "  </thead>\n",
       "  <tbody>\n",
       "    <tr>\n",
       "      <th>0</th>\n",
       "      <td>01/01/2007 00:00</td>\n",
       "      <td>0.0</td>\n",
       "      <td>23.72726</td>\n",
       "      <td>2.856398</td>\n",
       "      <td>0.302041</td>\n",
       "    </tr>\n",
       "    <tr>\n",
       "      <th>1</th>\n",
       "      <td>01/01/2007 01:00</td>\n",
       "      <td>0.0</td>\n",
       "      <td>23.72726</td>\n",
       "      <td>2.546373</td>\n",
       "      <td>0.277418</td>\n",
       "    </tr>\n",
       "    <tr>\n",
       "      <th>2</th>\n",
       "      <td>01/01/2007 02:00</td>\n",
       "      <td>0.0</td>\n",
       "      <td>23.72726</td>\n",
       "      <td>2.334827</td>\n",
       "      <td>0.314410</td>\n",
       "    </tr>\n",
       "    <tr>\n",
       "      <th>3</th>\n",
       "      <td>01/01/2007 03:00</td>\n",
       "      <td>0.0</td>\n",
       "      <td>23.72726</td>\n",
       "      <td>0.927367</td>\n",
       "      <td>0.339892</td>\n",
       "    </tr>\n",
       "    <tr>\n",
       "      <th>4</th>\n",
       "      <td>01/01/2007 04:00</td>\n",
       "      <td>0.0</td>\n",
       "      <td>23.72726</td>\n",
       "      <td>1.141059</td>\n",
       "      <td>0.379358</td>\n",
       "    </tr>\n",
       "  </tbody>\n",
       "</table>\n",
       "</div>"
      ],
      "text/plain": [
       "               Time  Global Solar(kW/m2)  PV Cell Temperature(C)  \\\n",
       "0  01/01/2007 00:00                  0.0                23.72726   \n",
       "1  01/01/2007 01:00                  0.0                23.72726   \n",
       "2  01/01/2007 02:00                  0.0                23.72726   \n",
       "3  01/01/2007 03:00                  0.0                23.72726   \n",
       "4  01/01/2007 04:00                  0.0                23.72726   \n",
       "\n",
       "   Wind Speed(m/s)  AC Load(kW)  \n",
       "0         2.856398     0.302041  \n",
       "1         2.546373     0.277418  \n",
       "2         2.334827     0.314410  \n",
       "3         0.927367     0.339892  \n",
       "4         1.141059     0.379358  "
      ]
     },
     "execution_count": 4,
     "metadata": {},
     "output_type": "execute_result"
    }
   ],
   "source": [
    "data_two.head()"
   ]
  },
  {
   "cell_type": "code",
   "execution_count": 5,
   "metadata": {},
   "outputs": [],
   "source": [
    "#Two rooms\n",
    "data_two['Month']=data_two['Time'].apply(lambda x:re.search(r'^\\d+',x).group(0)).astype(np.int64)\n",
    "data_two['Day']=data_two['Time'].apply(lambda x:re.search(r'(?<=\\/)\\d+(?=\\/)',x).group(0)).astype(np.int64)\n",
    "data_two['Hour']=data_two['Time'].apply(lambda x:re.search(r'(^\\d+)',x).group(0)).astype(np.int64)\n",
    "data_two=data_two.drop('Time',axis=1)\n"
   ]
  },
  {
   "cell_type": "code",
   "execution_count": 6,
   "metadata": {},
   "outputs": [],
   "source": [
    "train, test, valid=data_two[:6000],data_two[6000:7000],data_two[7000:]"
   ]
  },
  {
   "cell_type": "code",
   "execution_count": 7,
   "metadata": {},
   "outputs": [
    {
     "data": {
      "text/plain": [
       "((6000, 7), (1000, 7), (1760, 7))"
      ]
     },
     "execution_count": 7,
     "metadata": {},
     "output_type": "execute_result"
    }
   ],
   "source": [
    "train.shape,test.shape,valid.shape"
   ]
  },
  {
   "cell_type": "code",
   "execution_count": 8,
   "metadata": {},
   "outputs": [
    {
     "data": {
      "text/plain": [
       "((6000, 6), (6000,), (1760, 6), (1760,), (1000, 6), (1000,))"
      ]
     },
     "execution_count": 8,
     "metadata": {},
     "output_type": "execute_result"
    }
   ],
   "source": [
    "#x_train,y_train=x.to_numpy(),y.to_numpy()\n",
    "x_train,y_train=train.drop('PV Cell Temperature(C)',axis=1).to_numpy(),train['PV Cell Temperature(C)'].to_numpy()\n",
    "x_val,y_val=valid.drop('PV Cell Temperature(C)',axis=1).to_numpy(),valid['PV Cell Temperature(C)'].to_numpy()\n",
    "x_test,y_test=test.drop('PV Cell Temperature(C)',axis=1).to_numpy(),test['PV Cell Temperature(C)'].to_numpy()\n",
    "\n",
    "x_train.shape,y_train.shape,x_val.shape,y_val.shape,x_test.shape,y_test.shape"
   ]
  },
  {
   "cell_type": "code",
   "execution_count": 9,
   "metadata": {},
   "outputs": [],
   "source": [
    "scaler=StandardScaler().fit(x_train[:])\n",
    "def preprocessor(x):\n",
    "    A=np.copy(x)\n",
    "    A[: , :]=scaler.transform(A[:,:])\n",
    "    return A\n",
    "\n",
    "x_train,x_val,x_test=preprocessor(x_train),preprocessor(x_val),preprocessor(x_test)\n",
    "\n"
   ]
  },
  {
   "cell_type": "markdown",
   "metadata": {},
   "source": [
    "# Model Training"
   ]
  },
  {
   "cell_type": "code",
   "execution_count": 11,
   "metadata": {},
   "outputs": [],
   "source": [
    "from sklearn.metrics import mean_squared_error as mse"
   ]
  },
  {
   "cell_type": "code",
   "execution_count": 12,
   "metadata": {},
   "outputs": [
    {
     "data": {
      "text/plain": [
       "(1.2134347247500545, 1.366362306089661)"
      ]
     },
     "execution_count": 12,
     "metadata": {},
     "output_type": "execute_result"
    }
   ],
   "source": [
    "#Gradient Boosting Regressor\n",
    "from sklearn.ensemble import GradientBoostingRegressor\n",
    "\n",
    "gradB=GradientBoostingRegressor(n_estimators=300).fit(x_train,y_train)\n",
    "mse(gradB.predict(x_train),y_train,squared=False),mse(gradB.predict(x_val),y_val,squared=False)"
   ]
  },
  {
   "cell_type": "markdown",
   "metadata": {},
   "source": [
    "# Model Testing"
   ]
  },
  {
   "cell_type": "code",
   "execution_count": 13,
   "metadata": {},
   "outputs": [
    {
     "data": {
      "text/plain": [
       "1.4709176339621801"
      ]
     },
     "execution_count": 13,
     "metadata": {},
     "output_type": "execute_result"
    }
   ],
   "source": [
    "mse(gradB.predict(x_test),y_test,squared=False)"
   ]
  },
  {
   "cell_type": "code",
   "execution_count": 14,
   "metadata": {},
   "outputs": [],
   "source": [
    "prediction=gradB.predict(x_test)"
   ]
  },
  {
   "cell_type": "code",
   "execution_count": 15,
   "metadata": {},
   "outputs": [
    {
     "data": {
      "image/png": "[encoded data removed]",
      "text/plain": [
       "<Figure size 720x504 with 1 Axes>"
      ]
     },
     "metadata": {
      "needs_background": "light"
     },
     "output_type": "display_data"
    }
   ],
   "source": [
    "plt.figure(figsize=(10,7))\n",
    "plt.scatter(y_test,prediction)\n",
    "plt.xlabel(\"Actual value\")\n",
    "plt.ylabel(\"Prediction value\")\n",
    "plt.title(\"Scatterplot of GradientBoosting Model\")\n",
    "plt.savefig('Scatterplot_two_room.png')"
   ]
  },
  {
   "cell_type": "code",
   "execution_count": 16,
   "metadata": {},
   "outputs": [
    {
     "data": {
      "image/png": "[encoded data removed]",
      "text/plain": [
       "<Figure size 720x504 with 1 Axes>"
      ]
     },
     "metadata": {
      "needs_background": "light"
     },
     "output_type": "display_data"
    }
   ],
   "source": [
    "plt.figure(figsize=(10,7))\n",
    "sns.regplot(x=y_test,y=prediction,ci=None,color='blue')\n",
    "plt.xlabel(\"Actual value\")\n",
    "plt.ylabel(\"Prediction value\")\n",
    "plt.title(\"Regressionplot of GradientBoosting Model\")\n",
    "plt.savefig('Regressionplot_two_bedrooms.png')"
   ]
  },
  {
   "cell_type": "code",
   "execution_count": 17,
   "metadata": {},
   "outputs": [
    {
     "data": {
      "text/html": [
       "<div>\n",
       "<style scoped>\n",
       "    .dataframe tbody tr th:only-of-type {\n",
       "        vertical-align: middle;\n",
       "    }\n",
       "\n",
       "    .dataframe tbody tr th {\n",
       "        vertical-align: top;\n",
       "    }\n",
       "\n",
       "    .dataframe thead th {\n",
       "        text-align: right;\n",
       "    }\n",
       "</style>\n",
       "<table border=\"1\" class=\"dataframe\">\n",
       "  <thead>\n",
       "    <tr style=\"text-align: right;\">\n",
       "      <th></th>\n",
       "      <th>0</th>\n",
       "      <th>1</th>\n",
       "      <th>2</th>\n",
       "      <th>3</th>\n",
       "      <th>4</th>\n",
       "      <th>5</th>\n",
       "      <th>PV Temp</th>\n",
       "      <th>Temp Prediction</th>\n",
       "    </tr>\n",
       "  </thead>\n",
       "  <tbody>\n",
       "    <tr>\n",
       "      <th>0</th>\n",
       "      <td>-0.741829</td>\n",
       "      <td>-1.222913</td>\n",
       "      <td>-0.573675</td>\n",
       "      <td>1.826488</td>\n",
       "      <td>-0.830103</td>\n",
       "      <td>1.826488</td>\n",
       "      <td>25.11769</td>\n",
       "      <td>25.153740</td>\n",
       "    </tr>\n",
       "    <tr>\n",
       "      <th>1</th>\n",
       "      <td>-0.741829</td>\n",
       "      <td>-1.588619</td>\n",
       "      <td>-1.046237</td>\n",
       "      <td>1.826488</td>\n",
       "      <td>-0.830103</td>\n",
       "      <td>1.826488</td>\n",
       "      <td>25.11769</td>\n",
       "      <td>25.112135</td>\n",
       "    </tr>\n",
       "    <tr>\n",
       "      <th>2</th>\n",
       "      <td>-0.741829</td>\n",
       "      <td>-1.640577</td>\n",
       "      <td>-1.009695</td>\n",
       "      <td>1.826488</td>\n",
       "      <td>-0.830103</td>\n",
       "      <td>1.826488</td>\n",
       "      <td>25.11769</td>\n",
       "      <td>25.112135</td>\n",
       "    </tr>\n",
       "    <tr>\n",
       "      <th>3</th>\n",
       "      <td>-0.741829</td>\n",
       "      <td>-1.561707</td>\n",
       "      <td>-1.170881</td>\n",
       "      <td>1.826488</td>\n",
       "      <td>-0.830103</td>\n",
       "      <td>1.826488</td>\n",
       "      <td>25.11769</td>\n",
       "      <td>25.116045</td>\n",
       "    </tr>\n",
       "    <tr>\n",
       "      <th>4</th>\n",
       "      <td>-0.741829</td>\n",
       "      <td>-1.514031</td>\n",
       "      <td>-0.964011</td>\n",
       "      <td>1.826488</td>\n",
       "      <td>-0.830103</td>\n",
       "      <td>1.826488</td>\n",
       "      <td>25.11769</td>\n",
       "      <td>25.116045</td>\n",
       "    </tr>\n",
       "  </tbody>\n",
       "</table>\n",
       "</div>"
      ],
      "text/plain": [
       "          0         1         2         3         4         5   PV Temp  \\\n",
       "0 -0.741829 -1.222913 -0.573675  1.826488 -0.830103  1.826488  25.11769   \n",
       "1 -0.741829 -1.588619 -1.046237  1.826488 -0.830103  1.826488  25.11769   \n",
       "2 -0.741829 -1.640577 -1.009695  1.826488 -0.830103  1.826488  25.11769   \n",
       "3 -0.741829 -1.561707 -1.170881  1.826488 -0.830103  1.826488  25.11769   \n",
       "4 -0.741829 -1.514031 -0.964011  1.826488 -0.830103  1.826488  25.11769   \n",
       "\n",
       "   Temp Prediction  \n",
       "0        25.153740  \n",
       "1        25.112135  \n",
       "2        25.112135  \n",
       "3        25.116045  \n",
       "4        25.116045  "
      ]
     },
     "execution_count": 17,
     "metadata": {},
     "output_type": "execute_result"
    }
   ],
   "source": [
    "result=pd.DataFrame(x_test)\n",
    "result['PV Temp']=pd.DataFrame(y_test)\n",
    "result['Temp Prediction']=pd.DataFrame(prediction)\n",
    "result.head()\n"
   ]
  },
  {
   "cell_type": "code",
   "execution_count": 18,
   "metadata": {},
   "outputs": [],
   "source": [
    "result.to_csv(\"Two Bedrooms Output.csv\",index=False)"
   ]
  },
  {
   "cell_type": "code",
   "execution_count": null,
   "metadata": {},
   "outputs": [],
   "source": []
  }
 ],
 "metadata": {
  "kernelspec": {
   "display_name": "Python 3",
   "language": "python",
   "name": "python3"
  },
  "language_info": {
   "codemirror_mode": {
    "name": "ipython",
    "version": 3
   },
   "file_extension": ".py",
   "mimetype": "text/x-python",
   "name": "python",
   "nbconvert_exporter": "python",
   "pygments_lexer": "ipython3",
   "version": "3.7.6"
  }
 },
 "nbformat": 4,
 "nbformat_minor": 4
}
